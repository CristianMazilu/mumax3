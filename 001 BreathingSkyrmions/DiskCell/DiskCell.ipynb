{
 "cells": [
  {
   "cell_type": "markdown",
   "metadata": {},
   "source": [
    "# Skyrmion oscillations by spin currents\n",
    "\n",
    "## First step is to stabilize a skyrmion on a disk\n",
    "1. For this I have to define material parameters to the point where skyrmions are naturally stable.\n",
    "2. Set the disk geometry of the simulation cell.\n",
    "3. Set the spin current.\n",
    "4. Run the simulation.\n",
    "5. Export an image of the system.\n",
    "6. FFT the result to find the oscillation frequency.\n",
    "7. Process the FFT to find peaks.\n",
    "8. Make a set of values for the spin current, and run the simulation for each spin current.\n",
    "9. Plot the FFT frequency peak against the current.\n",
    "10. Determine whether the behavior is linear or not."
   ]
  },
  {
   "cell_type": "code",
   "execution_count": null,
   "metadata": {},
   "outputs": [],
   "source": []
  }
 ],
 "metadata": {
  "language_info": {
   "name": "python"
  }
 },
 "nbformat": 4,
 "nbformat_minor": 2
}
